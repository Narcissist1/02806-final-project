{
 "cells": [
  {
   "cell_type": "markdown",
   "metadata": {},
   "source": [
    "# 02806 Final project \n",
    "> An analysis and visualization for novel Covid-19 virus\n",
    "\n",
    "- toc: true \n",
    "- badges: true\n",
    "- author: Georgios Zefkilis & Yucheng Ren\n",
    "- comments: false\n",
    "- categories: [data_analysis, visualization]"
   ]
  },
  {
   "cell_type": "markdown",
   "metadata": {},
   "source": [
    "# Introduction\n",
    "\n",
    "Some introduction here"
   ]
  },
  {
   "cell_type": "markdown",
   "metadata": {},
   "source": [
    "# Data analysis"
   ]
  },
  {
   "cell_type": "markdown",
   "metadata": {},
   "source": [
    "# Comparison"
   ]
  },
  {
   "cell_type": "markdown",
   "metadata": {},
   "source": [
    "# Cov19 Current Situation"
   ]
  },
  {
   "cell_type": "markdown",
   "metadata": {},
   "source": [
    "# some plot I've made, just put them here now"
   ]
  },
  {
   "cell_type": "markdown",
   "metadata": {},
   "source": [
    "<div class=\"flourish-embed flourish-bar-chart-race\" data-src=\"visualisation/1908357\" data-url=\"https://flo.uri.sh/visualisation/1908357/embed\"><script src=\"https://public.flourish.studio/resources/embed.js\"></script></div>"
   ]
  },
  {
   "cell_type": "markdown",
   "metadata": {},
   "source": [
    "<div class=\"flourish-embed flourish-chart\" data-src=\"visualisation/1912792\" data-url=\"https://flo.uri.sh/visualisation/1912792/embed\"><script src=\"https://public.flourish.studio/resources/embed.js\"></script></div>"
   ]
  },
  {
   "cell_type": "markdown",
   "metadata": {},
   "source": [
    "<div class=\"flourish-embed flourish-scatter\" data-src=\"visualisation/1913459\" data-url=\"https://flo.uri.sh/visualisation/1913459/embed\"><script src=\"https://public.flourish.studio/resources/embed.js\"></script></div>"
   ]
  }
 ],
 "metadata": {
  "kernelspec": {
   "display_name": "Python 3",
   "language": "python",
   "name": "python3"
  },
  "language_info": {
   "codemirror_mode": {
    "name": "ipython",
    "version": 3
   },
   "file_extension": ".py",
   "mimetype": "text/x-python",
   "name": "python",
   "nbconvert_exporter": "python",
   "pygments_lexer": "ipython3",
   "version": "3.8.2"
  }
 },
 "nbformat": 4,
 "nbformat_minor": 4
}
