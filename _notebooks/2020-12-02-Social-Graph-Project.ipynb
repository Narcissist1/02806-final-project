{
 "cells": [
  {
   "cell_type": "markdown",
   "metadata": {},
   "source": [
    "# Social Graph Final project \n",
    "> An analysis and visualization for security people using Twitter data.\n",
    "\n",
    "- toc: true \n",
    "- badges: false\n",
    "- author: Peter Bom Jakobsen & Søren Fritzbøger & Yucheng Ren \n",
    "- comments: false\n",
    "- categories: [data_analysis, network]"
   ]
  },
  {
   "cell_type": "markdown",
   "metadata": {},
   "source": [
    "> Important: The dataset we were used to create the network comes from Twitter, you can view and download them from [here](https://raw.githubusercontent.com/Glorforidor/SocialGraphAssignments/master/twitter_data.zip). The Explainer [notebook]()."
   ]
  },
  {
   "cell_type": "markdown",
   "metadata": {},
   "source": [
    "As we all know people working within the field of cyber security are \"nerds\" who do not have any friends. Or at least that is the common stereotype. You know, greasy bearded men who only cares about bits and bytes, and have not seen daylight since they went into puberty and hid in their basements. Furthermore, these \"nerds\" are split into two communities, offensive and defensive security, and they DO NOT like each other. Right?\n",
    "\n",
    "The following story will show you that you are actually wrong. That people working within the cyber security realm are real people with real friends (Yes, Twitter friends are real friends. Just like Facebook friends 😉). Furthermore, they are probably not as excluded as you think, and they might even have more friends than you (Just kidding, nobody have more friends than you 😉).\n",
    "\n",
    "---"
   ]
  },
  {
   "cell_type": "code",
   "execution_count": 2,
   "metadata": {},
   "outputs": [],
   "source": [
    "# hide\n",
    "# Standard libraries.\n",
    "import collections\n",
    "import csv\n",
    "from functools import wraps\n",
    "import math\n",
    "import os\n",
    "import os.path\n",
    "\n",
    "# Third party libraries.\n",
    "from fa2 import ForceAtlas2\n",
    "import networkx as nx\n",
    "import nltk\n",
    "from nltk import word_tokenize\n",
    "import numpy as np\n",
    "import matplotlib.pyplot as plt\n",
    "import pandas as pd\n",
    "import texttable\n",
    "from wordcloud import WordCloud"
   ]
  },
  {
   "cell_type": "code",
   "execution_count": 3,
   "metadata": {},
   "outputs": [],
   "source": [
    "# hide\n",
    "# Filenames of all the data files which makes up our dataset.\n",
    "tweets_filename = \"tweets.csv\"\n",
    "id_to_screen_name_filename = \"id_to_screen_name.csv\"\n",
    "user_and_friends_filename = \"user_and_friends_ids.csv\"\n",
    "user_to_friend_filename = \"user_to_friend_screen_names.csv\"\n",
    "bios_filename = \"bios.csv\"\n",
    "sentiment_tweets_filename = \"sentiment_tweets.csv\"\n",
    "communities_filename = \"communities.csv\"\n",
    "top_5_communities_filename = \"top_5_communities.csv\"\n",
    "\n",
    "# The saved graph - it is an undirected graph.\n",
    "graph_filename = \"security_network.gml\""
   ]
  },
  {
   "cell_type": "markdown",
   "metadata": {},
   "source": [
    "## Dataset\n",
    "To prove to you that cyber security people are real people with real friends, we decided to stalk them on Twitter. By using the following search query, we found all the popular cyber security tweets:\n",
    "\n",
    "`(infosec OR cve OR cybersec OR cybersecurity OR ransomware) -filter:retweets min_faves:10`\n",
    "\n",
    "And yes, i know you're thinking \"10 LiKes iS nOt PoPuLaR, I gEt 1000 oN mY InStA pOsTs\", but 99% of those are bots that you paid for, so calm down \"influencer\" (😉).\n",
    "\n",
    "From this very beautiful query we get a long list of tweets from a long list of cyber security people. Furthermore, we get mentions to other people supposedly related to these cyber security people. From this list of important cyber security people we can now extract a looooot of data such as:\n",
    "\n",
    "* Screen names.\n",
    "* Friends' ids and their screen names.\n",
    "* Timeline tweets - 20 unfiltered tweets.\n",
    "* User descriptions and locations."
   ]
  },
  {
   "cell_type": "markdown",
   "metadata": {},
   "source": [
    "## Analysis\n",
    "\n",
    "And now we show you the revolutionary, myth debunking, science creating, unexplainably beautiful network of security people:"
   ]
  },
  {
   "cell_type": "markdown",
   "metadata": {},
   "source": [
    "![](imgs/network.png)"
   ]
  },
  {
   "cell_type": "markdown",
   "metadata": {},
   "source": [
    "As you can clearly see there are 2050 nodes corresponding to Twitter profiles and 18040 edges corresponding to friendships. So yes, \"nerds\" do have friends (😉).\n",
    "\n",
    "In fact, nerds probably have more friends than you do. In our dataset consisting of ONLY 2050 security people, most have at least 12 friends, and some have even more:"
   ]
  },
  {
   "cell_type": "markdown",
   "metadata": {},
   "source": [
    "![](imgs/degree_distribution.png)"
   ]
  },
  {
   "cell_type": "markdown",
   "metadata": {},
   "source": [
    "As you can see, the number of friends in our network clearly follows a power law distribution. Even in the world of \"nerds\", there are popular people. Now that we have debunked this very real and very serious myth that cyber security people have no friends (😉), let us move on to the next myth. That security people are split into two groups, where they either protect the world from evil forces, or they are evil forces (You know, split into defensive and offensive security😉)\n",
    "\n",
    "To explore this, why not discover communities within our network? Surely this will show that only two communities exist, and we can finally be right about something. To do this we have created this awesome histogram that should only show two communities (That is, if we are right, which we almost never are 😉"
   ]
  },
  {
   "cell_type": "code",
   "execution_count": 4,
   "metadata": {},
   "outputs": [],
   "source": [
    "# hide\n",
    "g = nx.read_gml(graph_filename)\n",
    "node_sizes = [d for __, d in g.degree]"
   ]
  },
  {
   "cell_type": "markdown",
   "metadata": {},
   "source": [
    "![](imgs/community_size.png)"
   ]
  },
  {
   "cell_type": "markdown",
   "metadata": {},
   "source": [
    "So clearly, we were wrong again. Within our little Twitter sphere a bunch of communities exist. Most of them are rather small, but a few larger ones exist. Now that we have singlehandedly been wrong about any assumption we have made, lets just stop making any more assumptions and  explore the dataset instead.\n",
    "\n",
    "The following word clouds show that our communities are spread widely within the cyber security domain:"
   ]
  },
  {
   "cell_type": "markdown",
   "metadata": {},
   "source": [
    "![](imgs/wordcloud1.png)"
   ]
  },
  {
   "cell_type": "markdown",
   "metadata": {},
   "source": [
    "We have a community that cares highly about social justice and identity (There goes our assumption about cyber security people being greasy men in a basement 😢), a community related to malware and antivirus, one related to topics such as digital transformation and fintech, one clearly devoted to security within the european union and one that is probably just profiles related to sharing news about cyber security.\n",
    "\n",
    "Well, that was boring. To spice things up once again, let us make an assumption! We assume that all of these communities are populated with people living in USA (🇺🇸), except for community 4. As we all know, people from 'MURICA think that the European Union is a labor union for european people (And we all know that americans hate labor unions (1) (2) (3))"
   ]
  },
  {
   "cell_type": "markdown",
   "metadata": {},
   "source": [
    "![](imgs/wordcloud2.png)"
   ]
  },
  {
   "cell_type": "markdown",
   "metadata": {},
   "source": [
    "And as the clever reader can see, we were right. All communities are dominated by people living within the United States of America, except for community 4 that is dominated by people living in Europe.\n",
    "\n",
    "Now, we know what you are thinking. \"This whole analysis is wrong because people who tweet about cyber security are robots guided by a sophisticated AI created by Elon Musk\". To disprove this, we show you the following homemade table of sentiment values created from the latest 20 tweets of each member of the communities(4)."
   ]
  },
  {
   "cell_type": "code",
   "execution_count": 16,
   "metadata": {},
   "outputs": [],
   "source": [
    "# hide\n",
    "url = \"https://ndownloader.figstatic.com/files/360592\"\n",
    "words_of_happiness = pd.read_csv(url, delimiter=\"\\t\", skiprows=3)\n",
    "\n",
    "\n",
    "def compute_average_sentiment(tokens):\n",
    "    \"\"\"compute_average_sentiment returns the average sentiment value of the tokens.\n",
    "    \n",
    "    Each token in tokens must be in lowercase.\n",
    "    \"\"\"\n",
    "    sentiment = 0.0\n",
    "    if not len(tokens):\n",
    "        return sentiment\n",
    "\n",
    "    avg = np.nan_to_num(words_of_happiness[words_of_happiness[\"word\"].isin(tokens)][\"happiness_average\"].mean())\n",
    "    return avg\n",
    "\n",
    "\n",
    "communities = {i: set(members) for i, members in enumerate(top_5_largest_communites)}\n",
    "text_of_communities = collections.defaultdict(str)\n",
    "with open(\"sentiment_tweets.csv\", newline=\"\") as f:\n",
    "    csv_reader = csv.DictReader(f)\n",
    "    for row in csv_reader:\n",
    "        for i, members in communities.items():\n",
    "            if row[\"screen_name\"] in members:\n",
    "                text_of_communities[i] += f\" {row['tweets']}\"\n",
    "\n",
    "sentiment_of_communities = {k: compute_average_sentiment(bag_of_words(v)) for k, v in text_of_communities.items()}"
   ]
  },
  {
   "cell_type": "code",
   "execution_count": 17,
   "metadata": {},
   "outputs": [
    {
     "name": "stdout",
     "output_type": "stream",
     "text": [
      "+-----------+-----------------+\n",
      "| Community | Sentiment value |\n",
      "+-----------+-----------------+\n",
      "| 1         |            5.46 |\n",
      "+-----------+-----------------+\n",
      "| 2         |            5.44 |\n",
      "+-----------+-----------------+\n",
      "| 3         |            5.52 |\n",
      "+-----------+-----------------+\n",
      "| 4         |            5.51 |\n",
      "+-----------+-----------------+\n",
      "| 5         |            5.46 |\n",
      "+-----------+-----------------+\n"
     ]
    }
   ],
   "source": [
    "# hide_input\n",
    "table = texttable.Texttable()\n",
    "table.set_cols_align([\"l\", \"r\"])\n",
    "table.set_cols_valign([\"t\", \"b\"])\n",
    "table.set_precision(2)\n",
    "table.add_row([\"Community\", \"Sentiment value\"])\n",
    "\n",
    "for com, sentiment in sorted(sentiment_of_communities.items()):\n",
    "    table.add_row([com+1, sentiment])\n",
    "\n",
    "print(table.draw())"
   ]
  },
  {
   "cell_type": "markdown",
   "metadata": {},
   "source": [
    "Aaaaand, we just received a email from \"Nole Ksum\"(5) telling us to stop this analysis, because he is not happy! (Neither are the communities. They are actually pretty neutral 😉)"
   ]
  },
  {
   "cell_type": "code",
   "execution_count": 8,
   "metadata": {},
   "outputs": [
    {
     "name": "stdout",
     "output_type": "stream",
     "text": [
      "+------------------+---------+\n",
      "| Name             | Friends |\n",
      "+------------------+---------+\n",
      "| @HackingDave     |     216 |\n",
      "+------------------+---------+\n",
      "| @AlyssaM_InfoSec |     198 |\n",
      "+------------------+---------+\n",
      "| @RayRedacted     |     193 |\n",
      "+------------------+---------+\n",
      "| @NicoleBeckwith  |     178 |\n",
      "+------------------+---------+\n",
      "| @DfirDiva        |     170 |\n",
      "+------------------+---------+\n",
      "| @sherrod_im      |     161 |\n",
      "+------------------+---------+\n",
      "| @cybergeekgirl   |     161 |\n",
      "+------------------+---------+\n",
      "| @gabsmashh       |     160 |\n",
      "+------------------+---------+\n",
      "| @LisaForteUK     |     158 |\n",
      "+------------------+---------+\n",
      "| @UK_Daniel_Card  |     154 |\n",
      "+------------------+---------+\n"
     ]
    }
   ],
   "source": [
    "# hide_input\n",
    "# The top 10 Twitter profiles with most friends - in network term highest degree.\n",
    "table = texttable.Texttable()\n",
    "table.set_cols_align([\"l\", \"r\"])\n",
    "table.set_cols_valign([\"t\", \"b\"])\n",
    "table.add_row([\"Name\", \"Friends\"])\n",
    "\n",
    "for screen_name, degree in sorted(g.degree, key=lambda x: x[1], reverse=True)[:10]:\n",
    "    table.add_row([screen_name, degree])\n",
    "\n",
    "print(table.draw())"
   ]
  },
  {
   "cell_type": "markdown",
   "metadata": {},
   "source": [
    "## References\n",
    "\n",
    "(1) https://www.vox.com/identities/2019/9/30/20891314/elon-musk-tesla-labor-violation-nlrb\n",
    "\n",
    "(2) https://www.theguardian.com/technology/2020/dec/02/google-labor-laws-nlrb-surveillance-worker-firing\n",
    "\n",
    "(3) https://www.csmonitor.com/USA/Politics/2020/1106/Uber-Lyft-gig-companies-win-fight-against-labor-unions"
   ]
  },
  {
   "cell_type": "markdown",
   "metadata": {},
   "source": [
    "## Notes\n",
    "(4) The 20 latest tweets were gathered on the 2nd December\n",
    "\n",
    "(5) \"Nole Ksum\" is Elon Musk kinda backwards. We are very surprised you did not get this reference."
   ]
  }
 ],
 "metadata": {
  "kernelspec": {
   "display_name": "Python 3",
   "language": "python",
   "name": "python3"
  },
  "language_info": {
   "codemirror_mode": {
    "name": "ipython",
    "version": 3
   },
   "file_extension": ".py",
   "mimetype": "text/x-python",
   "name": "python",
   "nbconvert_exporter": "python",
   "pygments_lexer": "ipython3",
   "version": "3.7.7"
  }
 },
 "nbformat": 4,
 "nbformat_minor": 4
}
